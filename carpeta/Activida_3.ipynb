{
 "cells": [
  {
   "cell_type": "code",
   "execution_count": 1,
   "id": "2025d723",
   "metadata": {},
   "outputs": [],
   "source": [
    "#Importamos librerías requeridas\n",
    "import pandas as pd\n",
    "import numpy as np\n",
    "import matplotlib.pyplot as plt\n",
    "import seaborn as sns\n",
    "from sklearn.cluster import KMeans\n",
    "from sklearn.decomposition import PCA\n",
    "from sklearn.preprocessing import StandardScaler"
   ]
  },
  {
   "cell_type": "code",
   "execution_count": 3,
   "id": "70a94768",
   "metadata": {},
   "outputs": [],
   "source": [
    "#Convertimos el dataset en dataframe\n",
    "df= pd.read_csv(\"listings.csv\")"
   ]
  },
  {
   "cell_type": "code",
   "execution_count": 5,
   "id": "fc477152",
   "metadata": {},
   "outputs": [
    {
     "name": "stdout",
     "output_type": "stream",
     "text": [
      "<class 'pandas.core.frame.DataFrame'>\n",
      "RangeIndex: 3493 entries, 0 to 3492\n",
      "Data columns (total 79 columns):\n",
      " #   Column                                        Non-Null Count  Dtype  \n",
      "---  ------                                        --------------  -----  \n",
      " 0   id                                            3493 non-null   int64  \n",
      " 1   listing_url                                   3493 non-null   object \n",
      " 2   scrape_id                                     3493 non-null   int64  \n",
      " 3   last_scraped                                  3493 non-null   object \n",
      " 4   source                                        3493 non-null   object \n",
      " 5   name                                          3493 non-null   object \n",
      " 6   description                                   3402 non-null   object \n",
      " 7   neighborhood_overview                         1502 non-null   object \n",
      " 8   picture_url                                   3493 non-null   object \n",
      " 9   host_id                                       3493 non-null   int64  \n",
      " 10  host_url                                      3493 non-null   object \n",
      " 11  host_name                                     3493 non-null   object \n",
      " 12  host_since                                    3493 non-null   object \n",
      " 13  host_location                                 2357 non-null   object \n",
      " 14  host_about                                    1317 non-null   object \n",
      " 15  host_response_time                            2983 non-null   object \n",
      " 16  host_response_rate                            2983 non-null   object \n",
      " 17  host_acceptance_rate                          3227 non-null   object \n",
      " 18  host_is_superhost                             3412 non-null   object \n",
      " 19  host_thumbnail_url                            3493 non-null   object \n",
      " 20  host_picture_url                              3493 non-null   object \n",
      " 21  host_neighbourhood                            56 non-null     object \n",
      " 22  host_listings_count                           3493 non-null   int64  \n",
      " 23  host_total_listings_count                     3493 non-null   int64  \n",
      " 24  host_verifications                            3493 non-null   object \n",
      " 25  host_has_profile_pic                          3493 non-null   object \n",
      " 26  host_identity_verified                        3493 non-null   object \n",
      " 27  neighbourhood                                 1502 non-null   object \n",
      " 28  neighbourhood_cleansed                        3493 non-null   object \n",
      " 29  neighbourhood_group_cleansed                  0 non-null      float64\n",
      " 30  latitude                                      3493 non-null   float64\n",
      " 31  longitude                                     3493 non-null   float64\n",
      " 32  property_type                                 3493 non-null   object \n",
      " 33  room_type                                     3493 non-null   object \n",
      " 34  accommodates                                  3493 non-null   int64  \n",
      " 35  bathrooms                                     3273 non-null   float64\n",
      " 36  bathrooms_text                                3490 non-null   object \n",
      " 37  bedrooms                                      3455 non-null   float64\n",
      " 38  beds                                          3268 non-null   float64\n",
      " 39  amenities                                     3493 non-null   object \n",
      " 40  price                                         3273 non-null   object \n",
      " 41  minimum_nights                                3493 non-null   int64  \n",
      " 42  maximum_nights                                3493 non-null   int64  \n",
      " 43  minimum_minimum_nights                        3493 non-null   int64  \n",
      " 44  maximum_minimum_nights                        3493 non-null   int64  \n",
      " 45  minimum_maximum_nights                        3493 non-null   int64  \n",
      " 46  maximum_maximum_nights                        3493 non-null   int64  \n",
      " 47  minimum_nights_avg_ntm                        3493 non-null   float64\n",
      " 48  maximum_nights_avg_ntm                        3493 non-null   float64\n",
      " 49  calendar_updated                              0 non-null      float64\n",
      " 50  has_availability                              3453 non-null   object \n",
      " 51  availability_30                               3493 non-null   int64  \n",
      " 52  availability_60                               3493 non-null   int64  \n",
      " 53  availability_90                               3493 non-null   int64  \n",
      " 54  availability_365                              3493 non-null   int64  \n",
      " 55  calendar_last_scraped                         3493 non-null   object \n",
      " 56  number_of_reviews                             3493 non-null   int64  \n",
      " 57  number_of_reviews_ltm                         3493 non-null   int64  \n",
      " 58  number_of_reviews_l30d                        3493 non-null   int64  \n",
      " 59  availability_eoy                              3493 non-null   int64  \n",
      " 60  number_of_reviews_ly                          3493 non-null   int64  \n",
      " 61  estimated_occupancy_l365d                     3493 non-null   int64  \n",
      " 62  estimated_revenue_l365d                       3273 non-null   float64\n",
      " 63  first_review                                  2913 non-null   object \n",
      " 64  last_review                                   2913 non-null   object \n",
      " 65  review_scores_rating                          2913 non-null   float64\n",
      " 66  review_scores_accuracy                        2913 non-null   float64\n",
      " 67  review_scores_cleanliness                     2913 non-null   float64\n",
      " 68  review_scores_checkin                         2913 non-null   float64\n",
      " 69  review_scores_communication                   2913 non-null   float64\n",
      " 70  review_scores_location                        2913 non-null   float64\n",
      " 71  review_scores_value                           2913 non-null   float64\n",
      " 72  license                                       3178 non-null   object \n",
      " 73  instant_bookable                              3493 non-null   object \n",
      " 74  calculated_host_listings_count                3493 non-null   int64  \n",
      " 75  calculated_host_listings_count_entire_homes   3493 non-null   int64  \n",
      " 76  calculated_host_listings_count_private_rooms  3493 non-null   int64  \n",
      " 77  calculated_host_listings_count_shared_rooms   3493 non-null   int64  \n",
      " 78  reviews_per_month                             2913 non-null   float64\n",
      "dtypes: float64(18), int64(26), object(35)\n",
      "memory usage: 2.1+ MB\n"
     ]
    }
   ],
   "source": [
    "df.info()"
   ]
  },
  {
   "cell_type": "code",
   "execution_count": null,
   "id": "0f53f27c",
   "metadata": {},
   "outputs": [],
   "source": []
  }
 ],
 "metadata": {
  "kernelspec": {
   "display_name": "Analitica",
   "language": "python",
   "name": "python3"
  },
  "language_info": {
   "codemirror_mode": {
    "name": "ipython",
    "version": 3
   },
   "file_extension": ".py",
   "mimetype": "text/x-python",
   "name": "python",
   "nbconvert_exporter": "python",
   "pygments_lexer": "ipython3",
   "version": "3.12.11"
  }
 },
 "nbformat": 4,
 "nbformat_minor": 5
}
